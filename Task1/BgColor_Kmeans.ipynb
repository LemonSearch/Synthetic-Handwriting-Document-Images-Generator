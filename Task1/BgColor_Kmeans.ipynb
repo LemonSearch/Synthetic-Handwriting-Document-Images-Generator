{
  "nbformat": 4,
  "nbformat_minor": 0,
  "metadata": {
    "colab": {
      "provenance": []
    },
    "kernelspec": {
      "name": "python3",
      "display_name": "Python 3"
    },
    "language_info": {
      "name": "python"
    }
  },
  "cells": [
    {
      "cell_type": "code",
      "execution_count": 3,
      "metadata": {
        "colab": {
          "base_uri": "https://localhost:8080/"
        },
        "id": "oZTHsIGPvnjl",
        "outputId": "25f75ab4-1e2f-4dff-e08a-08c77dabe32c"
      },
      "outputs": [
        {
          "output_type": "stream",
          "name": "stderr",
          "text": [
            "/usr/local/lib/python3.10/dist-packages/sklearn/cluster/_kmeans.py:870: FutureWarning: The default value of `n_init` will change from 10 to 'auto' in 1.4. Set the value of `n_init` explicitly to suppress the warning\n",
            "  warnings.warn(\n"
          ]
        },
        {
          "output_type": "stream",
          "name": "stdout",
          "text": [
            "[153.71392912 138.02542174 120.1133153 ] 2.55%\n",
            "[102.93271013  83.9057657   70.18383976] 3.02%\n",
            "[197.0037243  189.70947713 175.78496418] 15.84%\n",
            "[1.47864298 2.12584359 1.58641477] 24.31%\n",
            "[205.72046377 202.23042621 195.26022145] 54.27%\n"
          ]
        },
        {
          "output_type": "execute_result",
          "data": {
            "text/plain": [
              "True"
            ]
          },
          "metadata": {},
          "execution_count": 3
        }
      ],
      "source": [
        "import cv2, numpy as np\n",
        "from sklearn.cluster import KMeans\n",
        "\n",
        "def visualize_colors(cluster, centroids):\n",
        "    # Get the number of different clusters, create histogram, and normalize\n",
        "    labels = np.arange(0, len(np.unique(cluster.labels_)) + 1)\n",
        "    (hist, _) = np.histogram(cluster.labels_, bins = labels)\n",
        "    hist = hist.astype(\"float\")\n",
        "    hist /= hist.sum()\n",
        "\n",
        "    # Create frequency rect and iterate through each cluster's color and percentage\n",
        "    rect = np.zeros((50, 300, 3), dtype=np.uint8)\n",
        "    colors = sorted([(percent, color) for (percent, color) in zip(hist, centroids)])\n",
        "    start = 0\n",
        "    for (percent, color) in colors:\n",
        "        print(color, \"{:0.2f}%\".format(percent * 100))\n",
        "        end = start + (percent * 300)\n",
        "        cv2.rectangle(rect, (int(start), 0), (int(end), 50), \\\n",
        "                      color.astype(\"uint8\").tolist(), -1)\n",
        "        start = end\n",
        "    return rect\n",
        "\n",
        "# Load image and convert to a list of pixels\n",
        "image = cv2.imread('e-codices_csg-0231_049_max.jpg')\n",
        "image = cv2.cvtColor(image, cv2.COLOR_BGR2RGB)\n",
        "reshape = image.reshape((image.shape[0] * image.shape[1], 3))\n",
        "\n",
        "# Find and display most dominant colors\n",
        "cluster = KMeans(n_clusters=5).fit(reshape)\n",
        "visualize = visualize_colors(cluster, cluster.cluster_centers_)\n",
        "visualize = cv2.cvtColor(visualize, cv2.COLOR_RGB2BGR)\n",
        "cv2.imwrite('visualize.jpg', visualize)\n"
      ]
    }
  ]
}