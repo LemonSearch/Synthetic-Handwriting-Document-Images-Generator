{
  "nbformat": 4,
  "nbformat_minor": 0,
  "metadata": {
    "colab": {
      "provenance": []
    },
    "kernelspec": {
      "name": "python3",
      "display_name": "Python 3"
    },
    "language_info": {
      "name": "python"
    }
  },
  "cells": [
    {
      "cell_type": "code",
      "execution_count": 1,
      "metadata": {
        "colab": {
          "base_uri": "https://localhost:8080/"
        },
        "id": "ge7QAzMcJQRs",
        "outputId": "ac21bff5-831c-48bd-eda3-a48e47f6860f"
      },
      "outputs": [
        {
          "output_type": "execute_result",
          "data": {
            "text/plain": [
              "True"
            ]
          },
          "metadata": {},
          "execution_count": 1
        }
      ],
      "source": [
        "import cv2\n",
        "\n",
        "#Convert to Grayscale image\n",
        "image = cv2.imread('e-codices_csg-0231_049_max.jpg')\n",
        "gray = cv2.cvtColor(image, cv2.COLOR_BGR2GRAY)\n",
        "\n",
        "#Obtain binary image using Otsu's Thresholding\n",
        "thresh = cv2.threshold(gray, 0, 255, cv2.THRESH_BINARY_INV + cv2.THRESH_OTSU)[1]\n",
        "\n",
        "#Morph close to connect the words\n",
        "close_kernel = cv2.getStructuringElement(cv2.MORPH_RECT, (21,7))\n",
        "close = cv2.morphologyEx(thresh, cv2.MORPH_CLOSE, close_kernel, iterations=1)\n",
        "\n",
        "#Dilate\n",
        "dilate_kernel = cv2.getStructuringElement(cv2.MORPH_RECT, (5,3))\n",
        "dilate = cv2.dilate(close, dilate_kernel, iterations=1)\n",
        "\n",
        "#Find contours\n",
        "cnts = cv2.findContours(dilate, cv2.RETR_EXTERNAL, cv2.CHAIN_APPROX_SIMPLE)\n",
        "cnts = cnts[0] if len(cnts) == 2 else cnts[1]\n",
        "for c in cnts:\n",
        "    area = cv2.contourArea(c)\n",
        "    if area > 800 and area < 15000:\n",
        "        x,y,w,h = cv2.boundingRect(c)\n",
        "        cv2.rectangle(image, (x, y), (x + w, y + h), (205.86898643, 202.45290787, 195.62471082), -1)\n",
        "\n",
        "cv2.imwrite('image.jpg', image)\n"
      ]
    }
  ]
}